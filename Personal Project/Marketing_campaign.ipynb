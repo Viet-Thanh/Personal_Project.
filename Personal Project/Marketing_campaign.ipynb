{
 "cells": [
  {
   "cell_type": "code",
   "execution_count": 5,
   "metadata": {},
   "outputs": [],
   "source": [
    "import pandas as pd\n",
    "import numpy as np\n",
    "import seaborn as sb\n",
    "import matplotlib.pyplot as plt"
   ]
  },
  {
   "cell_type": "code",
   "execution_count": 6,
   "metadata": {},
   "outputs": [],
   "source": [
    "df = pd.read_csv(\"D:\\Personal Project\\marketing_campaign.csv\")"
   ]
  },
  {
   "cell_type": "code",
   "execution_count": 7,
   "metadata": {},
   "outputs": [
    {
     "name": "stdout",
     "output_type": "stream",
     "text": [
      "<class 'pandas.core.frame.DataFrame'>\n",
      "RangeIndex: 53503 entries, 0 to 53502\n",
      "Data columns (total 20 columns):\n",
      " #   Column                              Non-Null Count  Dtype \n",
      "---  ------                              --------------  ----- \n",
      " 0   Customer ID                         53503 non-null  int64 \n",
      " 1   Age                                 53503 non-null  int64 \n",
      " 2   Gender                              53503 non-null  object\n",
      " 3   Marital Status                      53503 non-null  object\n",
      " 4   Education Level                     53503 non-null  object\n",
      " 5   Geographic Information              53503 non-null  object\n",
      " 6   Occupation                          53503 non-null  object\n",
      " 7   Income Level                        53503 non-null  int64 \n",
      " 8   Behavioral Data                     53503 non-null  object\n",
      " 9   Purchase History                    53503 non-null  object\n",
      " 10  Interactions with Customer Service  53503 non-null  object\n",
      " 11  Insurance Products Owned            53503 non-null  object\n",
      " 12  Coverage Amount                     53503 non-null  int64 \n",
      " 13  Premium Amount                      53503 non-null  int64 \n",
      " 14  Policy Type                         53503 non-null  object\n",
      " 15  Customer Preferences                53503 non-null  object\n",
      " 16  Preferred Communication Channel     53503 non-null  object\n",
      " 17  Preferred Contact Time              53503 non-null  object\n",
      " 18  Preferred Language                  53503 non-null  object\n",
      " 19  Segmentation Group                  53503 non-null  object\n",
      "dtypes: int64(5), object(15)\n",
      "memory usage: 8.2+ MB\n"
     ]
    }
   ],
   "source": [
    "df.info()"
   ]
  },
  {
   "cell_type": "code",
   "execution_count": 12,
   "metadata": {},
   "outputs": [],
   "source": [
    "df['Purchase History'] = pd.to_datetime(df['Purchase History'])"
   ]
  },
  {
   "cell_type": "code",
   "execution_count": 13,
   "metadata": {},
   "outputs": [
    {
     "name": "stdout",
     "output_type": "stream",
     "text": [
      "<class 'pandas.core.frame.DataFrame'>\n",
      "RangeIndex: 53503 entries, 0 to 53502\n",
      "Data columns (total 20 columns):\n",
      " #   Column                              Non-Null Count  Dtype         \n",
      "---  ------                              --------------  -----         \n",
      " 0   Customer ID                         53503 non-null  int64         \n",
      " 1   Age                                 53503 non-null  int64         \n",
      " 2   Gender                              53503 non-null  object        \n",
      " 3   Marital Status                      53503 non-null  object        \n",
      " 4   Education Level                     53503 non-null  object        \n",
      " 5   Geographic Information              53503 non-null  object        \n",
      " 6   Occupation                          53503 non-null  object        \n",
      " 7   Income Level                        53503 non-null  int64         \n",
      " 8   Behavioral Data                     53503 non-null  object        \n",
      " 9   Purchase History                    53503 non-null  datetime64[ns]\n",
      " 10  Interactions with Customer Service  53503 non-null  object        \n",
      " 11  Insurance Products Owned            53503 non-null  object        \n",
      " 12  Coverage Amount                     53503 non-null  int64         \n",
      " 13  Premium Amount                      53503 non-null  int64         \n",
      " 14  Policy Type                         53503 non-null  object        \n",
      " 15  Customer Preferences                53503 non-null  object        \n",
      " 16  Preferred Communication Channel     53503 non-null  object        \n",
      " 17  Preferred Contact Time              53503 non-null  object        \n",
      " 18  Preferred Language                  53503 non-null  object        \n",
      " 19  Segmentation Group                  53503 non-null  object        \n",
      "dtypes: datetime64[ns](1), int64(5), object(14)\n",
      "memory usage: 8.2+ MB\n"
     ]
    }
   ],
   "source": [
    "df.info()"
   ]
  },
  {
   "cell_type": "code",
   "execution_count": 14,
   "metadata": {},
   "outputs": [
    {
     "data": {
      "text/plain": [
       "0       2018-10-04\n",
       "1       2018-06-11\n",
       "2       2021-05-06\n",
       "3       2018-02-09\n",
       "4       2018-10-09\n",
       "           ...    \n",
       "53498   2019-01-01\n",
       "53499   2021-05-18\n",
       "53500   2018-11-27\n",
       "53501   2021-04-06\n",
       "53502   2022-10-14\n",
       "Name: Purchase History, Length: 53503, dtype: datetime64[ns]"
      ]
     },
     "execution_count": 14,
     "metadata": {},
     "output_type": "execute_result"
    }
   ],
   "source": [
    "df['Purchase History']"
   ]
  }
 ],
 "metadata": {
  "kernelspec": {
   "display_name": "Python 3",
   "language": "python",
   "name": "python3"
  },
  "language_info": {
   "codemirror_mode": {
    "name": "ipython",
    "version": 3
   },
   "file_extension": ".py",
   "mimetype": "text/x-python",
   "name": "python",
   "nbconvert_exporter": "python",
   "pygments_lexer": "ipython3",
   "version": "3.11.3"
  }
 },
 "nbformat": 4,
 "nbformat_minor": 2
}
